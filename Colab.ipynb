{
  "cells": [
    {
      "cell_type": "code",
      "execution_count": null,
      "metadata": {
        "colab": {
          "base_uri": "https://localhost:8080/"
        },
        "id": "JiTt7wnpz10x",
        "outputId": "764e4865-624b-4c55-e8df-e627c4ceb03d"
      },
      "outputs": [],
      "source": [
        "pip install pytelegrambotapi --upgrade"
      ]
    },
    {
      "cell_type": "code",
      "execution_count": null,
      "metadata": {
        "colab": {
          "base_uri": "https://localhost:8080/"
        },
        "id": "lU9kZcGUxQ5S",
        "outputId": "e793f70d-5c68-4427-87c1-844e753fcdd7"
      },
      "outputs": [],
      "source": [
        "pip install kucoin-python"
      ]
    },
    {
      "cell_type": "code",
      "execution_count": null,
      "metadata": {
        "colab": {
          "base_uri": "https://localhost:8080/"
        },
        "id": "m0CmG76TxT6R",
        "outputId": "7573c47a-3abf-407b-8a70-5e44a70bf7bc"
      },
      "outputs": [],
      "source": [
        "pip install requests"
      ]
    },
    {
      "cell_type": "code",
      "execution_count": null,
      "metadata": {
        "colab": {
          "base_uri": "https://localhost:8080/"
        },
        "id": "5tMrnbmGxW1O",
        "outputId": "02a9b71f-03f5-45df-9b56-61003498ed92"
      },
      "outputs": [],
      "source": [
        "pip install python-kucoin"
      ]
    },
    {
      "cell_type": "code",
      "execution_count": null,
      "metadata": {
        "colab": {
          "base_uri": "https://localhost:8080/"
        },
        "id": "_CWBIwMbxZLy",
        "outputId": "9c80d391-c2f1-43ab-fdca-2e293efe08bb"
      },
      "outputs": [],
      "source": [
        "pip install jsons"
      ]
    },
    {
      "cell_type": "code",
      "execution_count": null,
      "metadata": {
        "colab": {
          "base_uri": "https://localhost:8080/"
        },
        "id": "BFoPZqXez9Kh",
        "outputId": "b3a86faa-523a-4d84-aec4-7131f6ff982d"
      },
      "outputs": [],
      "source": [
        "pip install hashlib"
      ]
    },
    {
      "cell_type": "code",
      "execution_count": null,
      "metadata": {
        "colab": {
          "base_uri": "https://localhost:8080/"
        },
        "id": "gdQgAuP1zMUn",
        "outputId": "9fc3694a-a0bb-46bc-8790-e70935183a96"
      },
      "outputs": [],
      "source": [
        "pip install hmac"
      ]
    },
    {
      "cell_type": "code",
      "execution_count": null,
      "metadata": {
        "colab": {
          "base_uri": "https://localhost:8080/"
        },
        "id": "5qcnmGc2zQd5",
        "outputId": "1ee7505a-e182-4ed1-f5b9-c858bcf88df5"
      },
      "outputs": [],
      "source": [
        "pip install pybase64"
      ]
    },
    {
      "cell_type": "code",
      "execution_count": null,
      "metadata": {
        "colab": {
          "base_uri": "https://localhost:8080/"
        },
        "id": "yeOZYEPJfaVD",
        "outputId": "245826ef-ed7b-499c-9ecd-61488c66d7d7"
      },
      "outputs": [],
      "source": [
        "pip install pitz"
      ]
    }
  ],
  "metadata": {
    "colab": {
      "collapsed_sections": [],
      "provenance": []
    },
    "kernelspec": {
      "display_name": "Python 3.10.4 64-bit",
      "language": "python",
      "name": "python3"
    },
    "language_info": {
      "name": "python",
      "version": "3.10.4"
    },
    "vscode": {
      "interpreter": {
        "hash": "aee8b7b246df8f9039afb4144a1f6fd8d2ca17a180786b69acc140d282b71a49"
      }
    }
  },
  "nbformat": 4,
  "nbformat_minor": 0
}
